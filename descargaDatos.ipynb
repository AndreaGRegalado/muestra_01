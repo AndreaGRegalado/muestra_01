{
 "cells": [
  {
   "cell_type": "code",
   "execution_count": 1,
   "id": "5105bfbd-3f5a-4648-8525-1b241e702aec",
   "metadata": {},
   "outputs": [],
   "source": [
    "from ftplib import FTP\n",
    "import datetime\n",
    "import os\n",
    "import xarray as xr"
   ]
  },
  {
   "cell_type": "code",
   "execution_count": 2,
   "id": "3c629179-0f4f-4bb7-89c2-8ceeeb15bffa",
   "metadata": {},
   "outputs": [],
   "source": [
    "# RUTA RELATIVA, decirle donde guardarlo, en carpeta \"datos\" de la ruta donde está el script\n",
    "directorio_actual = os.getcwd()\n",
    "\n",
    "data_dir = \"datos\"\n",
    "\n",
    "# Crea la ruta al directorio padre (una carpeta atrás)\n",
    "directorio_padre = os.path.abspath(os.path.join(directorio_actual, os.pardir))\n",
    "ruta_archivo = os.path.join(directorio_padre,data_dir)"
   ]
  },
  {
   "cell_type": "code",
   "execution_count": 3,
   "id": "c7b62070-5ad4-4035-be18-301bfa0fc789",
   "metadata": {},
   "outputs": [],
   "source": [
    "year = datetime.date.today().year\n",
    "fileThisYear = 'sst.day.mean.'+str(year)+'.nc'\n"
   ]
  },
  {
   "cell_type": "code",
   "execution_count": 4,
   "id": "d1230fbc-bb63-45e7-bc33-9e23ea3b7508",
   "metadata": {},
   "outputs": [
    {
     "name": "stdout",
     "output_type": "stream",
     "text": [
      ">>>>> Descargando datos sst.day.mean.2024.nc en C:\\Users\\andre\\scripts\\python\\datos\n",
      ">>>>> Datos descargados sst.day.mean.2024.nc en C:\\Users\\andre\\scripts\\python\\datos\n"
     ]
    }
   ],
   "source": [
    "print('>>>>> Descargando datos '+fileThisYear+' en '+ruta_archivo)\n",
    "\n",
    "ftp = FTP('ftp.cdc.noaa.gov')  # connect to host, default port\n",
    "ftp.login()  \n",
    "ftp.cwd('Datasets/noaa.oisst.v2.highres/');\n",
    "with open(os.path.join(ruta_archivo, fileThisYear), 'wb') as f:\n",
    "    ftp.retrbinary(\"RETR \" + fileThisYear, f.write)\n",
    "ftp.quit();\n",
    "\n",
    "print('>>>>> Datos descargados '+fileThisYear+' en '+ruta_archivo)"
   ]
  },
  {
   "cell_type": "code",
   "execution_count": 5,
   "id": "880ca3f7-1904-4301-b206-866ead72306a",
   "metadata": {},
   "outputs": [
    {
     "name": "stdout",
     "output_type": "stream",
     "text": [
      ">>>>> Ultimo dato: 31 March 2024\n"
     ]
    }
   ],
   "source": [
    "os.chdir(directorio_actual)\n",
    "\n",
    "DS = xr.open_dataset(ruta_archivo+'/'+fileThisYear)\n",
    "print('>>>>> Ultimo dato: '+DS.time[-1].dt.strftime(\"%d %B %Y\").values)"
   ]
  },
  {
   "cell_type": "code",
   "execution_count": null,
   "id": "33a99efe-a015-4c06-8bc3-5b0e410d7e8a",
   "metadata": {},
   "outputs": [],
   "source": []
  }
 ],
 "metadata": {
  "kernelspec": {
   "display_name": "Python 3 (ipykernel)",
   "language": "python",
   "name": "python3"
  },
  "language_info": {
   "codemirror_mode": {
    "name": "ipython",
    "version": 3
   },
   "file_extension": ".py",
   "mimetype": "text/x-python",
   "name": "python",
   "nbconvert_exporter": "python",
   "pygments_lexer": "ipython3",
   "version": "3.9.13"
  }
 },
 "nbformat": 4,
 "nbformat_minor": 5
}
